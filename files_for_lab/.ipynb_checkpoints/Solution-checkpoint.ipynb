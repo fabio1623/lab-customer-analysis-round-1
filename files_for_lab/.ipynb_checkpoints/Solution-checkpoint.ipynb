{
 "cells": [
  {
   "cell_type": "markdown",
   "id": "5f7a2bc4",
   "metadata": {},
   "source": [
    "Read the three files into python as dataframes"
   ]
  },
  {
   "cell_type": "code",
   "execution_count": 473,
   "id": "88670511",
   "metadata": {},
   "outputs": [],
   "source": [
    "import pandas as pd\n",
    "\n",
    "file1 = pd.read_csv('csv_files/file1.csv')\n",
    "file2 = pd.read_csv('csv_files/file2.csv')\n",
    "file3 = pd.read_csv('csv_files/file3.csv')"
   ]
  },
  {
   "cell_type": "markdown",
   "id": "b0922fb0",
   "metadata": {},
   "source": [
    "Show the DataFrame's shape."
   ]
  },
  {
   "cell_type": "code",
   "execution_count": 474,
   "id": "55c0040f",
   "metadata": {},
   "outputs": [
    {
     "name": "stdout",
     "output_type": "stream",
     "text": [
      "(4008, 11)\n",
      "(996, 11)\n",
      "(7070, 11)\n"
     ]
    }
   ],
   "source": [
    "print(file1.shape)\n",
    "print(file2.shape)\n",
    "print(file3.shape)"
   ]
  },
  {
   "cell_type": "raw",
   "id": "15144845",
   "metadata": {},
   "source": [
    "Standardize header names."
   ]
  },
  {
   "cell_type": "code",
   "execution_count": 475,
   "id": "c7d1e4e5",
   "metadata": {},
   "outputs": [
    {
     "data": {
      "text/plain": [
       "Index(['Customer', 'ST', 'GENDER', 'Education', 'Customer Lifetime Value',\n",
       "       'Income', 'Monthly Premium Auto', 'Number of Open Complaints',\n",
       "       'Policy Type', 'Vehicle Class', 'Total Claim Amount'],\n",
       "      dtype='object')"
      ]
     },
     "execution_count": 475,
     "metadata": {},
     "output_type": "execute_result"
    }
   ],
   "source": [
    "file1.columns"
   ]
  },
  {
   "cell_type": "code",
   "execution_count": 476,
   "id": "e6c81ec1",
   "metadata": {},
   "outputs": [
    {
     "data": {
      "text/plain": [
       "Index(['Customer', 'ST', 'GENDER', 'Education', 'Customer Lifetime Value',\n",
       "       'Income', 'Monthly Premium Auto', 'Number of Open Complaints',\n",
       "       'Total Claim Amount', 'Policy Type', 'Vehicle Class'],\n",
       "      dtype='object')"
      ]
     },
     "execution_count": 476,
     "metadata": {},
     "output_type": "execute_result"
    }
   ],
   "source": [
    "file2.columns"
   ]
  },
  {
   "cell_type": "code",
   "execution_count": 477,
   "id": "d373df00",
   "metadata": {
    "scrolled": true
   },
   "outputs": [
    {
     "data": {
      "text/plain": [
       "Index(['Customer', 'State', 'Customer Lifetime Value', 'Education', 'Gender',\n",
       "       'Income', 'Monthly Premium Auto', 'Number of Open Complaints',\n",
       "       'Policy Type', 'Total Claim Amount', 'Vehicle Class'],\n",
       "      dtype='object')"
      ]
     },
     "execution_count": 477,
     "metadata": {},
     "output_type": "execute_result"
    }
   ],
   "source": [
    "file3.columns"
   ]
  },
  {
   "cell_type": "code",
   "execution_count": 478,
   "id": "495a1757",
   "metadata": {},
   "outputs": [
    {
     "data": {
      "text/plain": [
       "Index(['Customer', 'State', 'Gender', 'Education', 'Customer Lifetime Value',\n",
       "       'Income', 'Monthly Premium Auto', 'Number of Open Complaints',\n",
       "       'Policy Type', 'Vehicle Class', 'Total Claim Amount'],\n",
       "      dtype='object')"
      ]
     },
     "execution_count": 478,
     "metadata": {},
     "output_type": "execute_result"
    }
   ],
   "source": [
    "columns_definition = { 'ST':'State', 'GENDER':'Gender' }\n",
    "file1 = file1.rename(columns = columns_definition)\n",
    "file1.columns"
   ]
  },
  {
   "cell_type": "code",
   "execution_count": 479,
   "id": "f8c6911e",
   "metadata": {},
   "outputs": [
    {
     "data": {
      "text/plain": [
       "Index(['Customer', 'State', 'Gender', 'Education', 'Customer Lifetime Value',\n",
       "       'Income', 'Monthly Premium Auto', 'Number of Open Complaints',\n",
       "       'Total Claim Amount', 'Policy Type', 'Vehicle Class'],\n",
       "      dtype='object')"
      ]
     },
     "execution_count": 479,
     "metadata": {},
     "output_type": "execute_result"
    }
   ],
   "source": [
    "file2 = file2.rename(columns = columns_definition)\n",
    "file2.columns"
   ]
  },
  {
   "cell_type": "markdown",
   "id": "8671dc26",
   "metadata": {},
   "source": [
    "Rearrange the columns in the dataframe as needed"
   ]
  },
  {
   "cell_type": "code",
   "execution_count": 480,
   "id": "4a4d83cc",
   "metadata": {},
   "outputs": [
    {
     "name": "stdout",
     "output_type": "stream",
     "text": [
      "[ True  True  True  True  True  True  True  True False False False]\n",
      "True\n"
     ]
    }
   ],
   "source": [
    "print(file1.columns == file2.columns)\n",
    "print(len(file1.columns) == len(file2.columns))"
   ]
  },
  {
   "cell_type": "code",
   "execution_count": 481,
   "id": "e18e2303",
   "metadata": {},
   "outputs": [
    {
     "data": {
      "text/plain": [
       "Index(['Customer', 'State', 'Gender', 'Education', 'Customer Lifetime Value',\n",
       "       'Income', 'Monthly Premium Auto', 'Number of Open Complaints',\n",
       "       'Total Claim Amount', 'Policy Type', 'Vehicle Class'],\n",
       "      dtype='object')"
      ]
     },
     "execution_count": 481,
     "metadata": {},
     "output_type": "execute_result"
    }
   ],
   "source": [
    "file1 = file1[['Customer', 'State', 'Gender', 'Education', 'Customer Lifetime Value', 'Income', 'Monthly Premium Auto', 'Number of Open Complaints', 'Total Claim Amount', 'Policy Type', 'Vehicle Class']]\n",
    "file1.columns"
   ]
  },
  {
   "cell_type": "code",
   "execution_count": 482,
   "id": "39b96c02",
   "metadata": {},
   "outputs": [
    {
     "name": "stdout",
     "output_type": "stream",
     "text": [
      "[ True  True  True  True  True  True  True  True  True  True  True]\n"
     ]
    }
   ],
   "source": [
    "print(file1.columns == file2.columns)"
   ]
  },
  {
   "cell_type": "code",
   "execution_count": 483,
   "id": "1259a2d9",
   "metadata": {},
   "outputs": [
    {
     "name": "stdout",
     "output_type": "stream",
     "text": [
      "[ True  True False  True False  True  True  True False False  True]\n",
      "True\n"
     ]
    }
   ],
   "source": [
    "print(file1.columns == file3.columns)\n",
    "print(len(file1.columns) == len(file3.columns))"
   ]
  },
  {
   "cell_type": "code",
   "execution_count": 484,
   "id": "96f88c3e",
   "metadata": {},
   "outputs": [
    {
     "data": {
      "text/plain": [
       "Index(['Customer', 'State', 'Gender', 'Education', 'Customer Lifetime Value',\n",
       "       'Income', 'Monthly Premium Auto', 'Number of Open Complaints',\n",
       "       'Total Claim Amount', 'Policy Type', 'Vehicle Class'],\n",
       "      dtype='object')"
      ]
     },
     "execution_count": 484,
     "metadata": {},
     "output_type": "execute_result"
    }
   ],
   "source": [
    "file3 = file3[['Customer', 'State', 'Gender', 'Education', 'Customer Lifetime Value', 'Income', 'Monthly Premium Auto', 'Number of Open Complaints', 'Total Claim Amount', 'Policy Type', 'Vehicle Class']]\n",
    "file3.columns"
   ]
  },
  {
   "cell_type": "code",
   "execution_count": 485,
   "id": "43d8228e",
   "metadata": {},
   "outputs": [
    {
     "name": "stdout",
     "output_type": "stream",
     "text": [
      "[ True  True  True  True  True  True  True  True  True  True  True]\n",
      "True\n"
     ]
    }
   ],
   "source": [
    "print(file1.columns == file3.columns)\n",
    "print(len(file1.columns) == len(file3.columns))"
   ]
  },
  {
   "cell_type": "markdown",
   "id": "b0ff1ce9",
   "metadata": {},
   "source": [
    "Which columns are numerical?"
   ]
  },
  {
   "cell_type": "code",
   "execution_count": 486,
   "id": "1ce3971a",
   "metadata": {},
   "outputs": [
    {
     "data": {
      "text/plain": [
       "Customer                      object\n",
       "State                         object\n",
       "Gender                        object\n",
       "Education                     object\n",
       "Customer Lifetime Value       object\n",
       "Income                       float64\n",
       "Monthly Premium Auto         float64\n",
       "Number of Open Complaints     object\n",
       "Total Claim Amount           float64\n",
       "Policy Type                   object\n",
       "Vehicle Class                 object\n",
       "dtype: object"
      ]
     },
     "execution_count": 486,
     "metadata": {},
     "output_type": "execute_result"
    }
   ],
   "source": [
    "file1.dtypes"
   ]
  },
  {
   "cell_type": "code",
   "execution_count": 487,
   "id": "6acc3479",
   "metadata": {},
   "outputs": [
    {
     "name": "stdout",
     "output_type": "stream",
     "text": [
      "['Income', 'Monthly Premium Auto', 'Total Claim Amount']\n",
      "['Income', 'Monthly Premium Auto', 'Total Claim Amount']\n",
      "['Customer Lifetime Value', 'Income', 'Monthly Premium Auto', 'Number of Open Complaints', 'Total Claim Amount']\n"
     ]
    }
   ],
   "source": [
    "import numpy as np\n",
    "\n",
    "def get_numerical_columns_with_np(file):\n",
    "    return list(file.select_dtypes(include=np.number).columns)\n",
    "def get_numerical_columns_without_np(file):\n",
    "    return list(file.select_dtypes(include='number').columns)\n",
    "def get_numerical_columns_function(file):\n",
    "    return list(file._get_numeric_data().columns)\n",
    "\n",
    "print(get_numerical_columns_with_np(file1))\n",
    "print(get_numerical_columns_without_np(file2))\n",
    "print(get_numerical_columns_function(file3))"
   ]
  },
  {
   "cell_type": "markdown",
   "id": "c067bd22",
   "metadata": {},
   "source": [
    "Which columns are categorical?"
   ]
  },
  {
   "cell_type": "code",
   "execution_count": 488,
   "id": "cea3f776",
   "metadata": {},
   "outputs": [
    {
     "name": "stdout",
     "output_type": "stream",
     "text": [
      "['Customer', 'State', 'Gender', 'Education', 'Customer Lifetime Value', 'Number of Open Complaints', 'Policy Type', 'Vehicle Class']\n",
      "['Customer', 'State', 'Gender', 'Education', 'Customer Lifetime Value', 'Number of Open Complaints', 'Policy Type', 'Vehicle Class']\n",
      "['State', 'Customer', 'Education', 'Policy Type', 'Vehicle Class', 'Gender']\n"
     ]
    }
   ],
   "source": [
    "def get_categorical_columns_with_np(file):\n",
    "    return list(file.select_dtypes(exclude=np.number).columns)\n",
    "def get_categorical_columns_without_np(file):\n",
    "    return list(file.select_dtypes(exclude='number').columns)\n",
    "def get_categorical_columns_function(file):\n",
    "    return list(set(file.columns) - set(file._get_numeric_data().columns))\n",
    "\n",
    "print(get_categorical_columns_with_np(file1))\n",
    "print(get_categorical_columns_without_np(file2))\n",
    "print(get_categorical_columns_function(file3))"
   ]
  },
  {
   "cell_type": "markdown",
   "id": "fa573440",
   "metadata": {},
   "source": [
    "Perform the data cleaning operations mentioned so far in class"
   ]
  },
  {
   "cell_type": "markdown",
   "id": "097f42aa",
   "metadata": {},
   "source": [
    "Delete the column education and the number of open complaints from the dataframe."
   ]
  },
  {
   "cell_type": "code",
   "execution_count": 489,
   "id": "0f960931",
   "metadata": {},
   "outputs": [
    {
     "name": "stdout",
     "output_type": "stream",
     "text": [
      "11\n",
      "9\n",
      "11\n",
      "9\n",
      "11\n",
      "9\n"
     ]
    }
   ],
   "source": [
    "def drop_columns(dataframe):\n",
    "    print(len(dataframe.columns))\n",
    "    dataframe = dataframe.drop(['Education','Number of Open Complaints'], axis=1)\n",
    "    print(len(dataframe.columns))\n",
    "\n",
    "drop_columns(file1)\n",
    "drop_columns(file2)\n",
    "drop_columns(file3)"
   ]
  },
  {
   "cell_type": "markdown",
   "id": "51beac9e",
   "metadata": {},
   "source": [
    "Correct the values in the column customer lifetime value. They are given as a percent, so multiply them by 100 and change dtype to numerical type."
   ]
  },
  {
   "cell_type": "code",
   "execution_count": 490,
   "id": "7e93b3fd",
   "metadata": {
    "scrolled": true
   },
   "outputs": [
    {
     "data": {
      "text/plain": [
       "Customer                      object\n",
       "State                         object\n",
       "Gender                        object\n",
       "Education                     object\n",
       "Customer Lifetime Value       object\n",
       "Income                       float64\n",
       "Monthly Premium Auto         float64\n",
       "Number of Open Complaints     object\n",
       "Total Claim Amount           float64\n",
       "Policy Type                   object\n",
       "Vehicle Class                 object\n",
       "dtype: object"
      ]
     },
     "execution_count": 490,
     "metadata": {},
     "output_type": "execute_result"
    }
   ],
   "source": [
    "file1.dtypes"
   ]
  },
  {
   "cell_type": "code",
   "execution_count": 491,
   "id": "a3effb75",
   "metadata": {},
   "outputs": [],
   "source": [
    "def correct_data(file):\n",
    "    file['Customer Lifetime Value'] = file['Customer Lifetime Value'].str.rstrip(\"%\").astype(float)/100\n",
    "    file['Customer Lifetime Value'] =  pd.to_numeric(file['Customer Lifetime Value'], errors='coerce')\n",
    "    return file\n",
    "    \n",
    "file1 = correct_data(file1)\n",
    "file2 = correct_data(file2)"
   ]
  },
  {
   "cell_type": "code",
   "execution_count": 492,
   "id": "80a8f950",
   "metadata": {},
   "outputs": [
    {
     "data": {
      "text/html": [
       "<div>\n",
       "<style scoped>\n",
       "    .dataframe tbody tr th:only-of-type {\n",
       "        vertical-align: middle;\n",
       "    }\n",
       "\n",
       "    .dataframe tbody tr th {\n",
       "        vertical-align: top;\n",
       "    }\n",
       "\n",
       "    .dataframe thead th {\n",
       "        text-align: right;\n",
       "    }\n",
       "</style>\n",
       "<table border=\"1\" class=\"dataframe\">\n",
       "  <thead>\n",
       "    <tr style=\"text-align: right;\">\n",
       "      <th></th>\n",
       "      <th>Customer</th>\n",
       "      <th>State</th>\n",
       "      <th>Gender</th>\n",
       "      <th>Education</th>\n",
       "      <th>Customer Lifetime Value</th>\n",
       "      <th>Income</th>\n",
       "      <th>Monthly Premium Auto</th>\n",
       "      <th>Number of Open Complaints</th>\n",
       "      <th>Total Claim Amount</th>\n",
       "      <th>Policy Type</th>\n",
       "      <th>Vehicle Class</th>\n",
       "    </tr>\n",
       "  </thead>\n",
       "  <tbody>\n",
       "    <tr>\n",
       "      <th>0</th>\n",
       "      <td>RB50392</td>\n",
       "      <td>Washington</td>\n",
       "      <td>NaN</td>\n",
       "      <td>Master</td>\n",
       "      <td>NaN</td>\n",
       "      <td>0.0</td>\n",
       "      <td>1000.0</td>\n",
       "      <td>1/0/00</td>\n",
       "      <td>2.704934</td>\n",
       "      <td>Personal Auto</td>\n",
       "      <td>Four-Door Car</td>\n",
       "    </tr>\n",
       "    <tr>\n",
       "      <th>1</th>\n",
       "      <td>QZ44356</td>\n",
       "      <td>Arizona</td>\n",
       "      <td>F</td>\n",
       "      <td>Bachelor</td>\n",
       "      <td>6979.535900</td>\n",
       "      <td>0.0</td>\n",
       "      <td>94.0</td>\n",
       "      <td>1/0/00</td>\n",
       "      <td>1131.464935</td>\n",
       "      <td>Personal Auto</td>\n",
       "      <td>Four-Door Car</td>\n",
       "    </tr>\n",
       "    <tr>\n",
       "      <th>2</th>\n",
       "      <td>AI49188</td>\n",
       "      <td>Nevada</td>\n",
       "      <td>F</td>\n",
       "      <td>Bachelor</td>\n",
       "      <td>12887.431700</td>\n",
       "      <td>48767.0</td>\n",
       "      <td>108.0</td>\n",
       "      <td>1/0/00</td>\n",
       "      <td>566.472247</td>\n",
       "      <td>Personal Auto</td>\n",
       "      <td>Two-Door Car</td>\n",
       "    </tr>\n",
       "    <tr>\n",
       "      <th>3</th>\n",
       "      <td>WW63253</td>\n",
       "      <td>California</td>\n",
       "      <td>M</td>\n",
       "      <td>Bachelor</td>\n",
       "      <td>7645.861800</td>\n",
       "      <td>0.0</td>\n",
       "      <td>106.0</td>\n",
       "      <td>1/0/00</td>\n",
       "      <td>529.881344</td>\n",
       "      <td>Corporate Auto</td>\n",
       "      <td>SUV</td>\n",
       "    </tr>\n",
       "    <tr>\n",
       "      <th>4</th>\n",
       "      <td>GA49547</td>\n",
       "      <td>Washington</td>\n",
       "      <td>M</td>\n",
       "      <td>High School or Below</td>\n",
       "      <td>5363.076500</td>\n",
       "      <td>36357.0</td>\n",
       "      <td>68.0</td>\n",
       "      <td>1/0/00</td>\n",
       "      <td>17.269323</td>\n",
       "      <td>Personal Auto</td>\n",
       "      <td>Four-Door Car</td>\n",
       "    </tr>\n",
       "    <tr>\n",
       "      <th>...</th>\n",
       "      <td>...</td>\n",
       "      <td>...</td>\n",
       "      <td>...</td>\n",
       "      <td>...</td>\n",
       "      <td>...</td>\n",
       "      <td>...</td>\n",
       "      <td>...</td>\n",
       "      <td>...</td>\n",
       "      <td>...</td>\n",
       "      <td>...</td>\n",
       "      <td>...</td>\n",
       "    </tr>\n",
       "    <tr>\n",
       "      <th>7065</th>\n",
       "      <td>LA72316</td>\n",
       "      <td>California</td>\n",
       "      <td>M</td>\n",
       "      <td>Bachelor</td>\n",
       "      <td>23405.987980</td>\n",
       "      <td>71941.0</td>\n",
       "      <td>73.0</td>\n",
       "      <td>0</td>\n",
       "      <td>198.234764</td>\n",
       "      <td>Personal Auto</td>\n",
       "      <td>Four-Door Car</td>\n",
       "    </tr>\n",
       "    <tr>\n",
       "      <th>7066</th>\n",
       "      <td>PK87824</td>\n",
       "      <td>California</td>\n",
       "      <td>F</td>\n",
       "      <td>College</td>\n",
       "      <td>3096.511217</td>\n",
       "      <td>21604.0</td>\n",
       "      <td>79.0</td>\n",
       "      <td>0</td>\n",
       "      <td>379.200000</td>\n",
       "      <td>Corporate Auto</td>\n",
       "      <td>Four-Door Car</td>\n",
       "    </tr>\n",
       "    <tr>\n",
       "      <th>7067</th>\n",
       "      <td>TD14365</td>\n",
       "      <td>California</td>\n",
       "      <td>M</td>\n",
       "      <td>Bachelor</td>\n",
       "      <td>8163.890428</td>\n",
       "      <td>0.0</td>\n",
       "      <td>85.0</td>\n",
       "      <td>3</td>\n",
       "      <td>790.784983</td>\n",
       "      <td>Corporate Auto</td>\n",
       "      <td>Four-Door Car</td>\n",
       "    </tr>\n",
       "    <tr>\n",
       "      <th>7068</th>\n",
       "      <td>UP19263</td>\n",
       "      <td>California</td>\n",
       "      <td>M</td>\n",
       "      <td>College</td>\n",
       "      <td>7524.442436</td>\n",
       "      <td>21941.0</td>\n",
       "      <td>96.0</td>\n",
       "      <td>0</td>\n",
       "      <td>691.200000</td>\n",
       "      <td>Personal Auto</td>\n",
       "      <td>Four-Door Car</td>\n",
       "    </tr>\n",
       "    <tr>\n",
       "      <th>7069</th>\n",
       "      <td>Y167826</td>\n",
       "      <td>California</td>\n",
       "      <td>M</td>\n",
       "      <td>College</td>\n",
       "      <td>2611.836866</td>\n",
       "      <td>0.0</td>\n",
       "      <td>77.0</td>\n",
       "      <td>0</td>\n",
       "      <td>369.600000</td>\n",
       "      <td>Corporate Auto</td>\n",
       "      <td>Two-Door Car</td>\n",
       "    </tr>\n",
       "  </tbody>\n",
       "</table>\n",
       "<p>12074 rows × 11 columns</p>\n",
       "</div>"
      ],
      "text/plain": [
       "     Customer       State Gender             Education  \\\n",
       "0     RB50392  Washington    NaN                Master   \n",
       "1     QZ44356     Arizona      F              Bachelor   \n",
       "2     AI49188      Nevada      F              Bachelor   \n",
       "3     WW63253  California      M              Bachelor   \n",
       "4     GA49547  Washington      M  High School or Below   \n",
       "...       ...         ...    ...                   ...   \n",
       "7065  LA72316  California      M              Bachelor   \n",
       "7066  PK87824  California      F               College   \n",
       "7067  TD14365  California      M              Bachelor   \n",
       "7068  UP19263  California      M               College   \n",
       "7069  Y167826  California      M               College   \n",
       "\n",
       "      Customer Lifetime Value   Income  Monthly Premium Auto  \\\n",
       "0                         NaN      0.0                1000.0   \n",
       "1                 6979.535900      0.0                  94.0   \n",
       "2                12887.431700  48767.0                 108.0   \n",
       "3                 7645.861800      0.0                 106.0   \n",
       "4                 5363.076500  36357.0                  68.0   \n",
       "...                       ...      ...                   ...   \n",
       "7065             23405.987980  71941.0                  73.0   \n",
       "7066              3096.511217  21604.0                  79.0   \n",
       "7067              8163.890428      0.0                  85.0   \n",
       "7068              7524.442436  21941.0                  96.0   \n",
       "7069              2611.836866      0.0                  77.0   \n",
       "\n",
       "     Number of Open Complaints  Total Claim Amount     Policy Type  \\\n",
       "0                       1/0/00            2.704934   Personal Auto   \n",
       "1                       1/0/00         1131.464935   Personal Auto   \n",
       "2                       1/0/00          566.472247   Personal Auto   \n",
       "3                       1/0/00          529.881344  Corporate Auto   \n",
       "4                       1/0/00           17.269323   Personal Auto   \n",
       "...                        ...                 ...             ...   \n",
       "7065                         0          198.234764   Personal Auto   \n",
       "7066                         0          379.200000  Corporate Auto   \n",
       "7067                         3          790.784983  Corporate Auto   \n",
       "7068                         0          691.200000   Personal Auto   \n",
       "7069                         0          369.600000  Corporate Auto   \n",
       "\n",
       "      Vehicle Class  \n",
       "0     Four-Door Car  \n",
       "1     Four-Door Car  \n",
       "2      Two-Door Car  \n",
       "3               SUV  \n",
       "4     Four-Door Car  \n",
       "...             ...  \n",
       "7065  Four-Door Car  \n",
       "7066  Four-Door Car  \n",
       "7067  Four-Door Car  \n",
       "7068  Four-Door Car  \n",
       "7069   Two-Door Car  \n",
       "\n",
       "[12074 rows x 11 columns]"
      ]
     },
     "execution_count": 492,
     "metadata": {},
     "output_type": "execute_result"
    }
   ],
   "source": [
    "data = pd.concat([file1, file2, file3], axis = 0)\n",
    "data"
   ]
  },
  {
   "cell_type": "markdown",
   "id": "735b5060",
   "metadata": {},
   "source": [
    "Check for duplicate rows in the data and remove if any."
   ]
  },
  {
   "cell_type": "code",
   "execution_count": 493,
   "id": "f04dc07e",
   "metadata": {},
   "outputs": [
    {
     "data": {
      "text/html": [
       "<div>\n",
       "<style scoped>\n",
       "    .dataframe tbody tr th:only-of-type {\n",
       "        vertical-align: middle;\n",
       "    }\n",
       "\n",
       "    .dataframe tbody tr th {\n",
       "        vertical-align: top;\n",
       "    }\n",
       "\n",
       "    .dataframe thead th {\n",
       "        text-align: right;\n",
       "    }\n",
       "</style>\n",
       "<table border=\"1\" class=\"dataframe\">\n",
       "  <thead>\n",
       "    <tr style=\"text-align: right;\">\n",
       "      <th></th>\n",
       "      <th>Customer</th>\n",
       "      <th>State</th>\n",
       "      <th>Gender</th>\n",
       "      <th>Education</th>\n",
       "      <th>Customer Lifetime Value</th>\n",
       "      <th>Income</th>\n",
       "      <th>Monthly Premium Auto</th>\n",
       "      <th>Number of Open Complaints</th>\n",
       "      <th>Total Claim Amount</th>\n",
       "      <th>Policy Type</th>\n",
       "      <th>Vehicle Class</th>\n",
       "    </tr>\n",
       "  </thead>\n",
       "  <tbody>\n",
       "    <tr>\n",
       "      <th>0</th>\n",
       "      <td>RB50392</td>\n",
       "      <td>Washington</td>\n",
       "      <td>NaN</td>\n",
       "      <td>Master</td>\n",
       "      <td>NaN</td>\n",
       "      <td>0.0</td>\n",
       "      <td>1000.0</td>\n",
       "      <td>1/0/00</td>\n",
       "      <td>2.704934</td>\n",
       "      <td>Personal Auto</td>\n",
       "      <td>Four-Door Car</td>\n",
       "    </tr>\n",
       "    <tr>\n",
       "      <th>1</th>\n",
       "      <td>QZ44356</td>\n",
       "      <td>Arizona</td>\n",
       "      <td>F</td>\n",
       "      <td>Bachelor</td>\n",
       "      <td>6979.535900</td>\n",
       "      <td>0.0</td>\n",
       "      <td>94.0</td>\n",
       "      <td>1/0/00</td>\n",
       "      <td>1131.464935</td>\n",
       "      <td>Personal Auto</td>\n",
       "      <td>Four-Door Car</td>\n",
       "    </tr>\n",
       "    <tr>\n",
       "      <th>2</th>\n",
       "      <td>AI49188</td>\n",
       "      <td>Nevada</td>\n",
       "      <td>F</td>\n",
       "      <td>Bachelor</td>\n",
       "      <td>12887.431700</td>\n",
       "      <td>48767.0</td>\n",
       "      <td>108.0</td>\n",
       "      <td>1/0/00</td>\n",
       "      <td>566.472247</td>\n",
       "      <td>Personal Auto</td>\n",
       "      <td>Two-Door Car</td>\n",
       "    </tr>\n",
       "    <tr>\n",
       "      <th>3</th>\n",
       "      <td>WW63253</td>\n",
       "      <td>California</td>\n",
       "      <td>M</td>\n",
       "      <td>Bachelor</td>\n",
       "      <td>7645.861800</td>\n",
       "      <td>0.0</td>\n",
       "      <td>106.0</td>\n",
       "      <td>1/0/00</td>\n",
       "      <td>529.881344</td>\n",
       "      <td>Corporate Auto</td>\n",
       "      <td>SUV</td>\n",
       "    </tr>\n",
       "    <tr>\n",
       "      <th>4</th>\n",
       "      <td>GA49547</td>\n",
       "      <td>Washington</td>\n",
       "      <td>M</td>\n",
       "      <td>High School or Below</td>\n",
       "      <td>5363.076500</td>\n",
       "      <td>36357.0</td>\n",
       "      <td>68.0</td>\n",
       "      <td>1/0/00</td>\n",
       "      <td>17.269323</td>\n",
       "      <td>Personal Auto</td>\n",
       "      <td>Four-Door Car</td>\n",
       "    </tr>\n",
       "    <tr>\n",
       "      <th>...</th>\n",
       "      <td>...</td>\n",
       "      <td>...</td>\n",
       "      <td>...</td>\n",
       "      <td>...</td>\n",
       "      <td>...</td>\n",
       "      <td>...</td>\n",
       "      <td>...</td>\n",
       "      <td>...</td>\n",
       "      <td>...</td>\n",
       "      <td>...</td>\n",
       "      <td>...</td>\n",
       "    </tr>\n",
       "    <tr>\n",
       "      <th>7065</th>\n",
       "      <td>LA72316</td>\n",
       "      <td>California</td>\n",
       "      <td>M</td>\n",
       "      <td>Bachelor</td>\n",
       "      <td>23405.987980</td>\n",
       "      <td>71941.0</td>\n",
       "      <td>73.0</td>\n",
       "      <td>0</td>\n",
       "      <td>198.234764</td>\n",
       "      <td>Personal Auto</td>\n",
       "      <td>Four-Door Car</td>\n",
       "    </tr>\n",
       "    <tr>\n",
       "      <th>7066</th>\n",
       "      <td>PK87824</td>\n",
       "      <td>California</td>\n",
       "      <td>F</td>\n",
       "      <td>College</td>\n",
       "      <td>3096.511217</td>\n",
       "      <td>21604.0</td>\n",
       "      <td>79.0</td>\n",
       "      <td>0</td>\n",
       "      <td>379.200000</td>\n",
       "      <td>Corporate Auto</td>\n",
       "      <td>Four-Door Car</td>\n",
       "    </tr>\n",
       "    <tr>\n",
       "      <th>7067</th>\n",
       "      <td>TD14365</td>\n",
       "      <td>California</td>\n",
       "      <td>M</td>\n",
       "      <td>Bachelor</td>\n",
       "      <td>8163.890428</td>\n",
       "      <td>0.0</td>\n",
       "      <td>85.0</td>\n",
       "      <td>3</td>\n",
       "      <td>790.784983</td>\n",
       "      <td>Corporate Auto</td>\n",
       "      <td>Four-Door Car</td>\n",
       "    </tr>\n",
       "    <tr>\n",
       "      <th>7068</th>\n",
       "      <td>UP19263</td>\n",
       "      <td>California</td>\n",
       "      <td>M</td>\n",
       "      <td>College</td>\n",
       "      <td>7524.442436</td>\n",
       "      <td>21941.0</td>\n",
       "      <td>96.0</td>\n",
       "      <td>0</td>\n",
       "      <td>691.200000</td>\n",
       "      <td>Personal Auto</td>\n",
       "      <td>Four-Door Car</td>\n",
       "    </tr>\n",
       "    <tr>\n",
       "      <th>7069</th>\n",
       "      <td>Y167826</td>\n",
       "      <td>California</td>\n",
       "      <td>M</td>\n",
       "      <td>College</td>\n",
       "      <td>2611.836866</td>\n",
       "      <td>0.0</td>\n",
       "      <td>77.0</td>\n",
       "      <td>0</td>\n",
       "      <td>369.600000</td>\n",
       "      <td>Corporate Auto</td>\n",
       "      <td>Two-Door Car</td>\n",
       "    </tr>\n",
       "  </tbody>\n",
       "</table>\n",
       "<p>9135 rows × 11 columns</p>\n",
       "</div>"
      ],
      "text/plain": [
       "     Customer       State Gender             Education  \\\n",
       "0     RB50392  Washington    NaN                Master   \n",
       "1     QZ44356     Arizona      F              Bachelor   \n",
       "2     AI49188      Nevada      F              Bachelor   \n",
       "3     WW63253  California      M              Bachelor   \n",
       "4     GA49547  Washington      M  High School or Below   \n",
       "...       ...         ...    ...                   ...   \n",
       "7065  LA72316  California      M              Bachelor   \n",
       "7066  PK87824  California      F               College   \n",
       "7067  TD14365  California      M              Bachelor   \n",
       "7068  UP19263  California      M               College   \n",
       "7069  Y167826  California      M               College   \n",
       "\n",
       "      Customer Lifetime Value   Income  Monthly Premium Auto  \\\n",
       "0                         NaN      0.0                1000.0   \n",
       "1                 6979.535900      0.0                  94.0   \n",
       "2                12887.431700  48767.0                 108.0   \n",
       "3                 7645.861800      0.0                 106.0   \n",
       "4                 5363.076500  36357.0                  68.0   \n",
       "...                       ...      ...                   ...   \n",
       "7065             23405.987980  71941.0                  73.0   \n",
       "7066              3096.511217  21604.0                  79.0   \n",
       "7067              8163.890428      0.0                  85.0   \n",
       "7068              7524.442436  21941.0                  96.0   \n",
       "7069              2611.836866      0.0                  77.0   \n",
       "\n",
       "     Number of Open Complaints  Total Claim Amount     Policy Type  \\\n",
       "0                       1/0/00            2.704934   Personal Auto   \n",
       "1                       1/0/00         1131.464935   Personal Auto   \n",
       "2                       1/0/00          566.472247   Personal Auto   \n",
       "3                       1/0/00          529.881344  Corporate Auto   \n",
       "4                       1/0/00           17.269323   Personal Auto   \n",
       "...                        ...                 ...             ...   \n",
       "7065                         0          198.234764   Personal Auto   \n",
       "7066                         0          379.200000  Corporate Auto   \n",
       "7067                         3          790.784983  Corporate Auto   \n",
       "7068                         0          691.200000   Personal Auto   \n",
       "7069                         0          369.600000  Corporate Auto   \n",
       "\n",
       "      Vehicle Class  \n",
       "0     Four-Door Car  \n",
       "1     Four-Door Car  \n",
       "2      Two-Door Car  \n",
       "3               SUV  \n",
       "4     Four-Door Car  \n",
       "...             ...  \n",
       "7065  Four-Door Car  \n",
       "7066  Four-Door Car  \n",
       "7067  Four-Door Car  \n",
       "7068  Four-Door Car  \n",
       "7069   Two-Door Car  \n",
       "\n",
       "[9135 rows x 11 columns]"
      ]
     },
     "execution_count": 493,
     "metadata": {},
     "output_type": "execute_result"
    }
   ],
   "source": [
    "data = data.drop_duplicates()\n",
    "data"
   ]
  },
  {
   "cell_type": "markdown",
   "id": "8aa23169",
   "metadata": {},
   "source": [
    "Filter out the data for customers who have an income of 0 or less."
   ]
  },
  {
   "cell_type": "code",
   "execution_count": 494,
   "id": "858726bc",
   "metadata": {},
   "outputs": [
    {
     "data": {
      "text/html": [
       "<div>\n",
       "<style scoped>\n",
       "    .dataframe tbody tr th:only-of-type {\n",
       "        vertical-align: middle;\n",
       "    }\n",
       "\n",
       "    .dataframe tbody tr th {\n",
       "        vertical-align: top;\n",
       "    }\n",
       "\n",
       "    .dataframe thead th {\n",
       "        text-align: right;\n",
       "    }\n",
       "</style>\n",
       "<table border=\"1\" class=\"dataframe\">\n",
       "  <thead>\n",
       "    <tr style=\"text-align: right;\">\n",
       "      <th></th>\n",
       "      <th>Customer</th>\n",
       "      <th>State</th>\n",
       "      <th>Gender</th>\n",
       "      <th>Education</th>\n",
       "      <th>Customer Lifetime Value</th>\n",
       "      <th>Income</th>\n",
       "      <th>Monthly Premium Auto</th>\n",
       "      <th>Number of Open Complaints</th>\n",
       "      <th>Total Claim Amount</th>\n",
       "      <th>Policy Type</th>\n",
       "      <th>Vehicle Class</th>\n",
       "    </tr>\n",
       "  </thead>\n",
       "  <tbody>\n",
       "    <tr>\n",
       "      <th>0</th>\n",
       "      <td>RB50392</td>\n",
       "      <td>Washington</td>\n",
       "      <td>NaN</td>\n",
       "      <td>Master</td>\n",
       "      <td>NaN</td>\n",
       "      <td>0.0</td>\n",
       "      <td>1000.0</td>\n",
       "      <td>1/0/00</td>\n",
       "      <td>2.704934</td>\n",
       "      <td>Personal Auto</td>\n",
       "      <td>Four-Door Car</td>\n",
       "    </tr>\n",
       "    <tr>\n",
       "      <th>1</th>\n",
       "      <td>QZ44356</td>\n",
       "      <td>Arizona</td>\n",
       "      <td>F</td>\n",
       "      <td>Bachelor</td>\n",
       "      <td>6979.535900</td>\n",
       "      <td>0.0</td>\n",
       "      <td>94.0</td>\n",
       "      <td>1/0/00</td>\n",
       "      <td>1131.464935</td>\n",
       "      <td>Personal Auto</td>\n",
       "      <td>Four-Door Car</td>\n",
       "    </tr>\n",
       "    <tr>\n",
       "      <th>3</th>\n",
       "      <td>WW63253</td>\n",
       "      <td>California</td>\n",
       "      <td>M</td>\n",
       "      <td>Bachelor</td>\n",
       "      <td>7645.861800</td>\n",
       "      <td>0.0</td>\n",
       "      <td>106.0</td>\n",
       "      <td>1/0/00</td>\n",
       "      <td>529.881344</td>\n",
       "      <td>Corporate Auto</td>\n",
       "      <td>SUV</td>\n",
       "    </tr>\n",
       "    <tr>\n",
       "      <th>7</th>\n",
       "      <td>CF85061</td>\n",
       "      <td>Arizona</td>\n",
       "      <td>M</td>\n",
       "      <td>Master</td>\n",
       "      <td>7216.100300</td>\n",
       "      <td>0.0</td>\n",
       "      <td>101.0</td>\n",
       "      <td>1/0/00</td>\n",
       "      <td>363.029680</td>\n",
       "      <td>Corporate Auto</td>\n",
       "      <td>Four-Door Car</td>\n",
       "    </tr>\n",
       "    <tr>\n",
       "      <th>10</th>\n",
       "      <td>SX51350</td>\n",
       "      <td>California</td>\n",
       "      <td>M</td>\n",
       "      <td>College</td>\n",
       "      <td>4738.992000</td>\n",
       "      <td>0.0</td>\n",
       "      <td>67.0</td>\n",
       "      <td>1/0/00</td>\n",
       "      <td>482.400000</td>\n",
       "      <td>Personal Auto</td>\n",
       "      <td>Four-Door Car</td>\n",
       "    </tr>\n",
       "    <tr>\n",
       "      <th>...</th>\n",
       "      <td>...</td>\n",
       "      <td>...</td>\n",
       "      <td>...</td>\n",
       "      <td>...</td>\n",
       "      <td>...</td>\n",
       "      <td>...</td>\n",
       "      <td>...</td>\n",
       "      <td>...</td>\n",
       "      <td>...</td>\n",
       "      <td>...</td>\n",
       "      <td>...</td>\n",
       "    </tr>\n",
       "    <tr>\n",
       "      <th>7059</th>\n",
       "      <td>WZ45103</td>\n",
       "      <td>California</td>\n",
       "      <td>F</td>\n",
       "      <td>Bachelor</td>\n",
       "      <td>5678.050167</td>\n",
       "      <td>0.0</td>\n",
       "      <td>76.0</td>\n",
       "      <td>0</td>\n",
       "      <td>364.800000</td>\n",
       "      <td>Personal Auto</td>\n",
       "      <td>Four-Door Car</td>\n",
       "    </tr>\n",
       "    <tr>\n",
       "      <th>7061</th>\n",
       "      <td>RX91025</td>\n",
       "      <td>California</td>\n",
       "      <td>M</td>\n",
       "      <td>High School or Below</td>\n",
       "      <td>19872.262000</td>\n",
       "      <td>0.0</td>\n",
       "      <td>185.0</td>\n",
       "      <td>0</td>\n",
       "      <td>1950.725547</td>\n",
       "      <td>Personal Auto</td>\n",
       "      <td>SUV</td>\n",
       "    </tr>\n",
       "    <tr>\n",
       "      <th>7062</th>\n",
       "      <td>AC13887</td>\n",
       "      <td>California</td>\n",
       "      <td>M</td>\n",
       "      <td>Bachelor</td>\n",
       "      <td>4628.995325</td>\n",
       "      <td>0.0</td>\n",
       "      <td>67.0</td>\n",
       "      <td>0</td>\n",
       "      <td>482.400000</td>\n",
       "      <td>Corporate Auto</td>\n",
       "      <td>Two-Door Car</td>\n",
       "    </tr>\n",
       "    <tr>\n",
       "      <th>7067</th>\n",
       "      <td>TD14365</td>\n",
       "      <td>California</td>\n",
       "      <td>M</td>\n",
       "      <td>Bachelor</td>\n",
       "      <td>8163.890428</td>\n",
       "      <td>0.0</td>\n",
       "      <td>85.0</td>\n",
       "      <td>3</td>\n",
       "      <td>790.784983</td>\n",
       "      <td>Corporate Auto</td>\n",
       "      <td>Four-Door Car</td>\n",
       "    </tr>\n",
       "    <tr>\n",
       "      <th>7069</th>\n",
       "      <td>Y167826</td>\n",
       "      <td>California</td>\n",
       "      <td>M</td>\n",
       "      <td>College</td>\n",
       "      <td>2611.836866</td>\n",
       "      <td>0.0</td>\n",
       "      <td>77.0</td>\n",
       "      <td>0</td>\n",
       "      <td>369.600000</td>\n",
       "      <td>Corporate Auto</td>\n",
       "      <td>Two-Door Car</td>\n",
       "    </tr>\n",
       "  </tbody>\n",
       "</table>\n",
       "<p>2294 rows × 11 columns</p>\n",
       "</div>"
      ],
      "text/plain": [
       "     Customer       State Gender             Education  \\\n",
       "0     RB50392  Washington    NaN                Master   \n",
       "1     QZ44356     Arizona      F              Bachelor   \n",
       "3     WW63253  California      M              Bachelor   \n",
       "7     CF85061     Arizona      M                Master   \n",
       "10    SX51350  California      M               College   \n",
       "...       ...         ...    ...                   ...   \n",
       "7059  WZ45103  California      F              Bachelor   \n",
       "7061  RX91025  California      M  High School or Below   \n",
       "7062  AC13887  California      M              Bachelor   \n",
       "7067  TD14365  California      M              Bachelor   \n",
       "7069  Y167826  California      M               College   \n",
       "\n",
       "      Customer Lifetime Value  Income  Monthly Premium Auto  \\\n",
       "0                         NaN     0.0                1000.0   \n",
       "1                 6979.535900     0.0                  94.0   \n",
       "3                 7645.861800     0.0                 106.0   \n",
       "7                 7216.100300     0.0                 101.0   \n",
       "10                4738.992000     0.0                  67.0   \n",
       "...                       ...     ...                   ...   \n",
       "7059              5678.050167     0.0                  76.0   \n",
       "7061             19872.262000     0.0                 185.0   \n",
       "7062              4628.995325     0.0                  67.0   \n",
       "7067              8163.890428     0.0                  85.0   \n",
       "7069              2611.836866     0.0                  77.0   \n",
       "\n",
       "     Number of Open Complaints  Total Claim Amount     Policy Type  \\\n",
       "0                       1/0/00            2.704934   Personal Auto   \n",
       "1                       1/0/00         1131.464935   Personal Auto   \n",
       "3                       1/0/00          529.881344  Corporate Auto   \n",
       "7                       1/0/00          363.029680  Corporate Auto   \n",
       "10                      1/0/00          482.400000   Personal Auto   \n",
       "...                        ...                 ...             ...   \n",
       "7059                         0          364.800000   Personal Auto   \n",
       "7061                         0         1950.725547   Personal Auto   \n",
       "7062                         0          482.400000  Corporate Auto   \n",
       "7067                         3          790.784983  Corporate Auto   \n",
       "7069                         0          369.600000  Corporate Auto   \n",
       "\n",
       "      Vehicle Class  \n",
       "0     Four-Door Car  \n",
       "1     Four-Door Car  \n",
       "3               SUV  \n",
       "7     Four-Door Car  \n",
       "10    Four-Door Car  \n",
       "...             ...  \n",
       "7059  Four-Door Car  \n",
       "7061            SUV  \n",
       "7062   Two-Door Car  \n",
       "7067  Four-Door Car  \n",
       "7069   Two-Door Car  \n",
       "\n",
       "[2294 rows x 11 columns]"
      ]
     },
     "execution_count": 494,
     "metadata": {},
     "output_type": "execute_result"
    }
   ],
   "source": [
    "data[data['Income'] <= 0]"
   ]
  },
  {
   "cell_type": "code",
   "execution_count": null,
   "id": "e410f9bd",
   "metadata": {},
   "outputs": [],
   "source": []
  }
 ],
 "metadata": {
  "kernelspec": {
   "display_name": "Python 3 (ipykernel)",
   "language": "python",
   "name": "python3"
  },
  "language_info": {
   "codemirror_mode": {
    "name": "ipython",
    "version": 3
   },
   "file_extension": ".py",
   "mimetype": "text/x-python",
   "name": "python",
   "nbconvert_exporter": "python",
   "pygments_lexer": "ipython3",
   "version": "3.9.13"
  }
 },
 "nbformat": 4,
 "nbformat_minor": 5
}
